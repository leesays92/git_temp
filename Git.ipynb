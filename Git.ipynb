{
 "cells": [
  {
   "attachments": {},
   "cell_type": "markdown",
   "metadata": {},
   "source": [
    "# Git repository\n",
    "\n",
    "- 저장소: 프로젝트 디렉토리의 각 버전이 담기는 저장소\n",
    "- commit: 버전본을 스크린샷찍어서 만드는 과정.\n",
    "\n",
    "----------\n",
    "\n",
    "- 로컬에서 원하는 폴더 만들고 나서 ```git init```\n",
    "    - .git 파일이 생성되면서 비어있는 레포지토리를 생성\n",
    "- 파일 만들고, 커밋하기 \n",
    "    - 하기전에 꼭 해야할 것 --> 깃에게 commit 한 사람 알려주기\n",
    "        - ```git config user.name \"sooyoung\"```\n",
    "        - ```git config user.email \"leesays92@gmail.com\"```\n",
    "    - 커밋하기 \n",
    "        - ```git add calculator.py```: 커밋에 반영될 파일로 지정됨 // vscode 에 A (Activated)라고 표시될 것\n",
    "        - ```git commit -m \"created calculator.py```: -m은 메세지\n",
    "\n",
    "```\n",
    "PS C:\\Users\\KRISS\\Desktop\\Python_Django\\git> git commit -m \"created calculator.py\"  \n",
    "[master (root-commit) 80b302d] created calculator.py\n",
    " 1 file changed, 6 insertions(+)\n",
    " create mode 100644 calculator.py\n",
    "```\n",
    "\n",
    "- 이때 root-commit 이라는 것은 프로젝트의 첫번째 커밋이라는 뜻.\n",
    "\n",
    "    "
   ]
  },
  {
   "attachments": {},
   "cell_type": "markdown",
   "metadata": {},
   "source": [
    "- calculator.py 를 수정하고 ```git add calculator.py```: 수정한 파일을 다시 커밋에 반영될 파일로 설정하여 staging area 에 추가함\n",
    "    - ```git status```를 쳐보면 초록색으로 표시됨. git add 안된 애들은 빨간색으로\n",
    "- ```git add .```: 변경사항이 생긴 모든 파일들을 staging area 에 추가하라\n",
    "- add 된 것을 취소하는 방법: ```git reset calculator.py```\n",
    "    - calculator.py 수정된 것을 다시 돌리면 git status 상에서 nothing to commit 이라고 나와\n",
    "- 만약 알고 싶은 커맨드 있으면? ```git help [add]```"
   ]
  },
  {
   "attachments": {},
   "cell_type": "markdown",
   "metadata": {},
   "source": [
    "# GitHub"
   ]
  },
  {
   "attachments": {},
   "cell_type": "markdown",
   "metadata": {},
   "source": [
    "- github 로그인해서 새로운 레포지토리 만들기 --> 리모트 레포지토리가 생성됨.\n",
    "\n",
    "![image](./image_files/1.png)\n",
    "\n",
    "```\n",
    "- git remote add origin https://github.com/leesays92/git_temp.git\n",
    "- git branch -M main\n",
    "- git push -u origin main\n",
    "```"
   ]
  },
  {
   "attachments": {},
   "cell_type": "markdown",
   "metadata": {},
   "source": [
    "![image](./image_files/2.png)\n",
    "\n",
    "- 로컬에서 변경사항 있거나 새로운 파일 추가했을때, 이를 다시 리모트 레포지토리로 보내려면 ```git push```\n"
   ]
  },
  {
   "attachments": {},
   "cell_type": "markdown",
   "metadata": {},
   "source": [
    "- 리모트 레포지토리에서 바뀐 내용을 로컬 레포지토리에도 반영하기 ```git pull```\n"
   ]
  },
  {
   "cell_type": "markdown",
   "metadata": {},
   "source": []
  }
 ],
 "metadata": {
  "kernelspec": {
   "display_name": "Python 3",
   "language": "python",
   "name": "python3"
  },
  "language_info": {
   "name": "python",
   "version": "3.11.0 (main, Oct 24 2022, 18:26:48) [MSC v.1933 64 bit (AMD64)]"
  },
  "orig_nbformat": 4,
  "vscode": {
   "interpreter": {
    "hash": "c261aea317cc0286b3b3261fbba9abdec21eaa57589985bb7a274bf54d6cc0a7"
   }
  }
 },
 "nbformat": 4,
 "nbformat_minor": 2
}
